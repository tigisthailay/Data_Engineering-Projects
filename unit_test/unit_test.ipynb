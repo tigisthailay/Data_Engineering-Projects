{
 "cells": [
  {
   "cell_type": "markdown",
   "id": "4dc33263",
   "metadata": {},
   "source": [
    "## Let's create a Function to test"
   ]
  },
  {
   "cell_type": "markdown",
   "id": "9a47612a",
   "metadata": {},
   "source": [
    "The calculate_total_cost() function takes in three parameters: item_price, item_quantity, and an optional parameter discount_percentage with a default value of 0. The purpose of this function is to calculate the total cost of purchasing a given quantity of an item at a given price, taking into account a potential discount percentage.\n",
    "\n",
    "The function starts by performing input validation to ensure that the inputs are of the expected data types and values. If any of the input parameters are invalid, the function raises a TypeError or ValueError with a descriptive error message.\n",
    "\n",
    "After validating the input parameters, the function calculates the total cost of the purchase by multiplying the item_price and item_quantity parameters. It then calculates the discount amount by multiplying the total cost with the discount_percentage divided by 100. Finally, it calculates the final cost by subtracting the discount amount from the total cost.\n",
    "\n",
    "The function returns the final cost as its output. If no discount percentage is provided, the function returns the total cost without any discount applied. If a discount percentage is provided, the function returns the final cost after applying the specified discount.\n",
    "\n",
    "Overall, the calculate_total_cost() function provides a convenient way to calculate the cost of purchasing a given quantity of an item at a given price, with the option to apply a discount if desired.\n",
    "\n",
    "\n",
    "\n",
    "\n",
    "\n"
   ]
  },
  {
   "cell_type": "code",
   "execution_count": 1,
   "id": "45a394fa",
   "metadata": {},
   "outputs": [],
   "source": [
    "#!pip install --upgrade ipytest"
   ]
  },
  {
   "cell_type": "code",
   "execution_count": 2,
   "id": "3d3aa184",
   "metadata": {},
   "outputs": [],
   "source": [
    "# import the Pytest library\n",
    "import pytest\n",
    "import ipytest\n"
   ]
  },
  {
   "cell_type": "code",
   "execution_count": 3,
   "id": "094051c1",
   "metadata": {},
   "outputs": [],
   "source": [
    "def calculate_total_cost(item_price, item_quantity, discount_percentage=0):\n",
    "    # Check if item_price is an int or float data type\n",
    "    if not isinstance(item_price, (int, float)):\n",
    "        raise TypeError('item_price must be a number')  # Raise TypeError if item_price is not a number\n",
    "\n",
    "    # Check if item_quantity is an int data type\n",
    "    if not isinstance(item_quantity, int):\n",
    "        raise TypeError('item_quantity must be an integer')  # Raise TypeError if item_quantity is not an integer\n",
    "\n",
    "    # Check if discount_percentage is an int or float data type\n",
    "    if not isinstance(discount_percentage, (int, float)):\n",
    "        raise TypeError('discount_percentage must be a number')  # Raise TypeError if discount_percentage is not a number\n",
    "\n",
    "    # Check if discount_percentage is between 0 and 100 (inclusive)\n",
    "    if not 0 <= discount_percentage <= 100:\n",
    "        raise ValueError('discount_percentage must be between 0 and 100')  # Raise ValueError if discount_percentage is not between 0 and 100\n",
    "\n",
    "    total_cost = item_price * item_quantity  # Calculate the total cost\n",
    "    discount_amount = total_cost * (discount_percentage / 100)  # Calculate the discount amount\n",
    "    final_cost = total_cost - discount_amount  # Calculate the final cost\n",
    "\n",
    "    return final_cost  # Return the final cost as the output of the function\n"
   ]
  },
  {
   "cell_type": "code",
   "execution_count": 4,
   "id": "0f3a1f60",
   "metadata": {},
   "outputs": [],
   "source": [
    "# unit test case to verify calculate_total_cost() function with valid input\n",
    "def test_calculate_total_cost():\n",
    "    assert calculate_total_cost(10, 2) == 18\n",
    "    \n",
    "# unit test case to verify calculate_total_cost() function with discount\n",
    "def test_calculate_total_cost_with_discount():\n",
    "    assert calculate_total_cost(10, 2, 25) == 13\n",
    "    \n",
    "# unit test case to verify calculate_total_cost() function with zero discount\n",
    "def test_calculate_total_cost_with_zero_discount():\n",
    "    assert calculate_total_cost(10, 2, 0) == 22\n",
    "    \n",
    "# unit test case to verify calculate_total_cost() function with maximum discount\n",
    "def test_calculate_total_cost_with_max_discount():\n",
    "    assert calculate_total_cost(10, 2, 100) == 2\n",
    "    \n",
    "# unit test case to verify that calculate_total_cost() function raises TypeError when price has an invalid data type\n",
    "def test_calculate_total_cost_with_invalid_price():\n",
    "    with pytest.raises(TypeError):\n",
    "        calculate_total_cost('10', 2)\n",
    "        \n",
    "# unit test case to verify that calculate_total_cost() function raises TypeError when quantity has an invalid data type\n",
    "def test_calculate_total_cost_with_invalid_quantity():\n",
    "    with pytest.raises(TypeError):\n",
    "        calculate_total_cost(10, 2.5)\n",
    "        \n",
    "# unit test case to verify that calculate_total_cost() function raises TypeError when discount has an invalid data type\n",
    "def test_calculate_total_cost_with_invalid_discount():\n",
    "    with pytest.raises(TypeError):\n",
    "        calculate_total_cost(10, 2, '25%')\n",
    "        \n",
    "# unit test case to verify that calculate_total_cost() function raises ValueError when discount is negative\n",
    "def test_calculate_total_cost_with_negative_discount():\n",
    "    with pytest.raises(ValueError):\n",
    "        calculate_total_cost(10, 2, -25)\n",
    "        \n",
    "# unit test case to verify that calculate_total_cost() function raises ValueError when discount is greater than 100\n",
    "def test_calculate_total_cost_with_over_max_discount():\n",
    "    with pytest.raises(ValueError):\n",
    "        calculate_total_cost(10, 2, 150)"
   ]
  },
  {
   "cell_type": "markdown",
   "id": "92089cb7",
   "metadata": {},
   "source": [
    "#### run the unit test"
   ]
  },
  {
   "cell_type": "code",
   "execution_count": 5,
   "id": "6a757f92",
   "metadata": {},
   "outputs": [
    {
     "name": "stdout",
     "output_type": "stream",
     "text": [
      "======================================= test session starts ========================================\n",
      "platform linux -- Python 3.9.12, pytest-7.1.1, pluggy-1.0.0\n",
      "rootdir: /home/tegisty/Documents/D2BAcademy/unit_test\n",
      "plugins: anyio-3.5.0\n",
      "collected 9 items\n",
      "\n",
      "t_9d5fc97bf2b94c96a16d708af2207664.py FFFF.....                                              [100%]\n",
      "\n",
      "============================================= FAILURES =============================================\n",
      "____________________________________ test_calculate_total_cost _____________________________________\n",
      "\n",
      "    def test_calculate_total_cost():\n",
      ">       assert calculate_total_cost(10, 2) == 18\n",
      "E       AssertionError\n",
      "\n",
      "/tmp/ipykernel_7223/2187808878.py:3: AssertionError\n",
      "_____________________________ test_calculate_total_cost_with_discount ______________________________\n",
      "\n",
      "    def test_calculate_total_cost_with_discount():\n",
      ">       assert calculate_total_cost(10, 2, 25) == 13\n",
      "E       AssertionError\n",
      "\n",
      "/tmp/ipykernel_7223/2187808878.py:7: AssertionError\n",
      "___________________________ test_calculate_total_cost_with_zero_discount ___________________________\n",
      "\n",
      "    def test_calculate_total_cost_with_zero_discount():\n",
      ">       assert calculate_total_cost(10, 2, 0) == 22\n",
      "E       AssertionError\n",
      "\n",
      "/tmp/ipykernel_7223/2187808878.py:11: AssertionError\n",
      "___________________________ test_calculate_total_cost_with_max_discount ____________________________\n",
      "\n",
      "    def test_calculate_total_cost_with_max_discount():\n",
      ">       assert calculate_total_cost(10, 2, 100) == 2\n",
      "E       AssertionError\n",
      "\n",
      "/tmp/ipykernel_7223/2187808878.py:15: AssertionError\n",
      "===================================== short test summary info ======================================\n",
      "FAILED t_9d5fc97bf2b94c96a16d708af2207664.py::test_calculate_total_cost - AssertionError\n",
      "FAILED t_9d5fc97bf2b94c96a16d708af2207664.py::test_calculate_total_cost_with_discount - Assertion...\n",
      "FAILED t_9d5fc97bf2b94c96a16d708af2207664.py::test_calculate_total_cost_with_zero_discount - Asse...\n",
      "FAILED t_9d5fc97bf2b94c96a16d708af2207664.py::test_calculate_total_cost_with_max_discount - Asser...\n",
      "=================================== 4 failed, 5 passed in 0.31s ====================================\n"
     ]
    },
    {
     "data": {
      "text/plain": [
       "<ExitCode.TESTS_FAILED: 1>"
      ]
     },
     "execution_count": 5,
     "metadata": {},
     "output_type": "execute_result"
    }
   ],
   "source": [
    "ipytest.run()"
   ]
  },
  {
   "cell_type": "markdown",
   "id": "49c246ca",
   "metadata": {},
   "source": [
    "> We can observe that the firt Four cases failed and the last five passed."
   ]
  },
  {
   "cell_type": "markdown",
   "id": "821c9882",
   "metadata": {},
   "source": [
    "#### Class Exercise: \n",
    "\n",
    "##### 1. Modify test cases for all to Pass"
   ]
  },
  {
   "cell_type": "code",
   "execution_count": 6,
   "id": "63db9df8",
   "metadata": {},
   "outputs": [],
   "source": [
    "# unit test case to verify calculate_total_cost() function with valid input\n",
    "def test_calculate_total_cost():\n",
    "    assert calculate_total_cost(10, 2) == 20\n",
    "    \n",
    "# unit test case to verify calculate_total_cost() function with discount\n",
    "def test_calculate_total_cost_with_discount():\n",
    "    assert calculate_total_cost(10, 2, 25) == 15\n",
    "    \n",
    "# unit test case to verify calculate_total_cost() function with zero discount\n",
    "def test_calculate_total_cost_with_zero_discount():\n",
    "    assert calculate_total_cost(10, 2, 0) == 20\n",
    "    \n",
    "# unit test case to verify calculate_total_cost() function with maximum discount\n",
    "def test_calculate_total_cost_with_max_discount():\n",
    "    assert calculate_total_cost(10, 2, 100) == 0\n",
    "    \n",
    "# unit test case to verify that calculate_total_cost() function raises TypeError when price has an invalid data type\n",
    "def test_calculate_total_cost_with_invalid_price():\n",
    "    with pytest.raises(TypeError):\n",
    "        calculate_total_cost('10', 2)\n",
    "        \n",
    "# unit test case to verify that calculate_total_cost() function raises TypeError when quantity has an invalid data type\n",
    "def test_calculate_total_cost_with_invalid_quantity():\n",
    "    with pytest.raises(TypeError):\n",
    "        calculate_total_cost(10, 2.5)\n",
    "        \n",
    "# unit test case to verify that calculate_total_cost() function raises TypeError when discount has an invalid data type\n",
    "def test_calculate_total_cost_with_invalid_discount():\n",
    "    with pytest.raises(TypeError):\n",
    "        calculate_total_cost(10, 2, '25%')\n",
    "        \n",
    "# unit test case to verify that calculate_total_cost() function raises ValueError when discount is negative\n",
    "def test_calculate_total_cost_with_negative_discount():\n",
    "    with pytest.raises(ValueError):\n",
    "        calculate_total_cost(10, 2, -25)\n",
    "        \n",
    "# unit test case to verify that calculate_total_cost() function raises ValueError when discount is greater than 100\n",
    "def test_calculate_total_cost_with_over_max_discount():\n",
    "    with pytest.raises(ValueError):\n",
    "        calculate_total_cost(10, 2, 150)"
   ]
  },
  {
   "cell_type": "code",
   "execution_count": 7,
   "id": "2c65fb88",
   "metadata": {},
   "outputs": [
    {
     "name": "stdout",
     "output_type": "stream",
     "text": [
      "======================================= test session starts ========================================\n",
      "platform linux -- Python 3.9.12, pytest-7.1.1, pluggy-1.0.0\n",
      "rootdir: /home/tegisty/Documents/D2BAcademy/unit_test\n",
      "plugins: anyio-3.5.0\n",
      "collected 9 items\n",
      "\n",
      "t_9d5fc97bf2b94c96a16d708af2207664.py .........                                              [100%]\n",
      "\n",
      "======================================== 9 passed in 0.09s =========================================\n"
     ]
    },
    {
     "data": {
      "text/plain": [
       "<ExitCode.OK: 0>"
      ]
     },
     "execution_count": 7,
     "metadata": {},
     "output_type": "execute_result"
    }
   ],
   "source": [
    "\n",
    "ipytest.run()"
   ]
  },
  {
   "cell_type": "markdown",
   "id": "5cd678f4",
   "metadata": {},
   "source": [
    "##### 2. What causes a unit test to fail ?\n",
    " * Unit test is failing because the assert statement raised an AssertionError. \n",
    " - This means that there is a mismatch between the expected and actual return value, and that the function has a bug."
   ]
  },
  {
   "cell_type": "markdown",
   "id": "a0606459",
   "metadata": {},
   "source": []
  }
 ],
 "metadata": {
  "kernelspec": {
   "display_name": "Python 3 (ipykernel)",
   "language": "python",
   "name": "python3"
  },
  "language_info": {
   "codemirror_mode": {
    "name": "ipython",
    "version": 3
   },
   "file_extension": ".py",
   "mimetype": "text/x-python",
   "name": "python",
   "nbconvert_exporter": "python",
   "pygments_lexer": "ipython3",
   "version": "3.9.12"
  }
 },
 "nbformat": 4,
 "nbformat_minor": 5
}
